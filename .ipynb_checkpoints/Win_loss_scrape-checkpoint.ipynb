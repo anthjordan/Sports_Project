{
 "cells": [
  {
   "cell_type": "code",
   "execution_count": 12,
   "id": "ee178f49",
   "metadata": {},
   "outputs": [],
   "source": [
    "import time\n",
    "import pandas as pd\n",
    "from bs4 import BeautifulSoup\n",
    "from selenium import webdriver #make sure you have the Selenium library installed. You can install it using pip: pip install selenium\n",
    "from selenium.webdriver.chrome.service import Service\n",
    "from splinter import Browser"
   ]
  },
  {
   "cell_type": "code",
   "execution_count": 13,
   "id": "10b06381",
   "metadata": {},
   "outputs": [
    {
     "ename": "NameError",
     "evalue": "name 'Browser' is not defined",
     "output_type": "error",
     "traceback": [
      "\u001b[0;31m---------------------------------------------------------------------------\u001b[0m",
      "\u001b[0;31mNameError\u001b[0m                                 Traceback (most recent call last)",
      "Cell \u001b[0;32mIn[13], line 2\u001b[0m\n\u001b[1;32m      1\u001b[0m \u001b[38;5;66;03m# Initialize browser\u001b[39;00m\n\u001b[0;32m----> 2\u001b[0m browser \u001b[38;5;241m=\u001b[39m \u001b[43mBrowser\u001b[49m(\u001b[38;5;124m'\u001b[39m\u001b[38;5;124mchrome\u001b[39m\u001b[38;5;124m'\u001b[39m)\n",
      "\u001b[0;31mNameError\u001b[0m: name 'Browser' is not defined"
     ]
    }
   ],
   "source": [
    "# Initialize browser\n",
    "browser = Browser('chrome')"
   ]
  },
  {
   "cell_type": "code",
   "execution_count": 14,
   "id": "9bd85505",
   "metadata": {},
   "outputs": [],
   "source": [
    "def parse_win_loss_record(record):\n",
    "    # Split the win-loss-tie record and extract win, loss, and tie values\n",
    "    parts = record.split('-')\n",
    "    if len(parts) == 3:\n",
    "        win, loss, tie = parts\n",
    "        return int(win), int(loss), int(tie)\n",
    "    else:\n",
    "        return None, None, None\n",
    "\n",
    "def scrape_win_loss_records():\n",
    "    base_url = \"https://www.teamrankings.com/nfl/trends/win_trends/\"\n",
    "    years = range(2011, 2023)\n",
    "\n",
    "    # Initialize lists to store the extracted data\n",
    "    years_list = []\n",
    "    team_names = []\n",
    "    wins = []\n",
    "    losses = []\n",
    "    ties = []\n",
    "\n",
    "    browser.visit(base_url)\n",
    "\n",
    "    # Loop through each year\n",
    "    for year in years:\n",
    "        # Find the dropdown element to select the year\n",
    "        dropdown = driver.find_element_by_id('range')\n",
    "\n",
    "        # Find the option corresponding to the current year\n",
    "        option = dropdown.find_element_by_xpath(f\"//option[@value='yearly_{year}']\")\n",
    "        option.click()\n",
    "\n",
    "        # Wait for a short duration for the page to load\n",
    "        time.sleep(2)\n",
    "\n",
    "        # Get the page source after selecting the year\n",
    "        page_source = driver.page_source\n",
    "\n",
    "        # Parse the HTML content using BeautifulSoup\n",
    "        soup = BeautifulSoup(page_source, 'html.parser')\n",
    "\n",
    "        # Find the table containing the win-loss records\n",
    "        table = soup.find('table', class_='tr-table')\n",
    "\n",
    "        if table:\n",
    "            # Loop through each row in the table and extract the team name and win-loss record\n",
    "            for row in table.find_all('tr'):\n",
    "                columns = row.find_all('td')\n",
    "                if len(columns) == 5:  # Ensure we have a valid row with data\n",
    "                    team_name = columns[0].text.strip()\n",
    "                    win_loss_record = columns[1].text.strip()\n",
    "\n",
    "                    # Split win-loss-tie record into separate columns\n",
    "                    win, loss, tie = parse_win_loss_record(win_loss_record)\n",
    "\n",
    "                    years_list.append(year)\n",
    "                    team_names.append(team_name)\n",
    "                    wins.append(win)\n",
    "                    losses.append(loss)\n",
    "                    ties.append(tie)\n",
    "\n",
    "            # Wait for a short duration before fetching data for the next year\n",
    "            time.sleep(1)\n",
    "        else:\n",
    "            print(f\"No data found for the year {year}\")\n",
    "\n",
    "    # Close the ChromeDriver\n",
    "    driver.quit()\n",
    "\n",
    "    # Combine data into a list of tuples\n",
    "    data = list(zip(years_list, team_names, wins, losses, ties))\n",
    "\n",
    "    # Create a Pandas DataFrame\n",
    "    df_nfl_score = pd.DataFrame(data, columns=['Year', 'Team', 'Win', 'Loss', 'Tie'])\n",
    "\n",
    "    # Save the data to a CSV file\n",
    "    df_nfl_score.to_csv('nfl_win_loss_records_2019_to_2022.csv', index=False, encoding='utf-8')\n",
    "\n"
   ]
  },
  {
   "cell_type": "code",
   "execution_count": 15,
   "id": "e268c6b9",
   "metadata": {},
   "outputs": [
    {
     "ename": "NameError",
     "evalue": "name 'browser' is not defined",
     "output_type": "error",
     "traceback": [
      "\u001b[0;31m---------------------------------------------------------------------------\u001b[0m",
      "\u001b[0;31mNameError\u001b[0m                                 Traceback (most recent call last)",
      "Cell \u001b[0;32mIn[15], line 2\u001b[0m\n\u001b[1;32m      1\u001b[0m \u001b[38;5;66;03m# Example usage:\u001b[39;00m\n\u001b[0;32m----> 2\u001b[0m \u001b[43mscrape_win_loss_records\u001b[49m\u001b[43m(\u001b[49m\u001b[43m)\u001b[49m\n",
      "Cell \u001b[0;32mIn[14], line 21\u001b[0m, in \u001b[0;36mscrape_win_loss_records\u001b[0;34m()\u001b[0m\n\u001b[1;32m     18\u001b[0m losses \u001b[38;5;241m=\u001b[39m []\n\u001b[1;32m     19\u001b[0m ties \u001b[38;5;241m=\u001b[39m []\n\u001b[0;32m---> 21\u001b[0m \u001b[43mbrowser\u001b[49m\u001b[38;5;241m.\u001b[39mvisit(base_url)\n\u001b[1;32m     23\u001b[0m \u001b[38;5;66;03m# Loop through each year\u001b[39;00m\n\u001b[1;32m     24\u001b[0m \u001b[38;5;28;01mfor\u001b[39;00m year \u001b[38;5;129;01min\u001b[39;00m years:\n\u001b[1;32m     25\u001b[0m     \u001b[38;5;66;03m# Find the dropdown element to select the year\u001b[39;00m\n",
      "\u001b[0;31mNameError\u001b[0m: name 'browser' is not defined"
     ]
    }
   ],
   "source": [
    "# Example usage:\n",
    "scrape_win_loss_records()"
   ]
  },
  {
   "cell_type": "code",
   "execution_count": null,
   "id": "8100bd8c",
   "metadata": {},
   "outputs": [],
   "source": []
  }
 ],
 "metadata": {
  "kernelspec": {
   "display_name": "Python 3 (ipykernel)",
   "language": "python",
   "name": "python3"
  },
  "language_info": {
   "codemirror_mode": {
    "name": "ipython",
    "version": 3
   },
   "file_extension": ".py",
   "mimetype": "text/x-python",
   "name": "python",
   "nbconvert_exporter": "python",
   "pygments_lexer": "ipython3",
   "version": "3.10.9"
  }
 },
 "nbformat": 4,
 "nbformat_minor": 5
}
